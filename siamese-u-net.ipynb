{
 "cells": [
  {
   "cell_type": "code",
   "execution_count": null,
   "metadata": {},
   "outputs": [],
   "source": [
    "import model\n",
    "import os\n",
    "DATASET_DIR = os.path.join(os.getcwd(), 'cluttered_omniglot/')\n",
    "LOG_DIR = os.path.join(os.getcwd(), 'logs/')"
   ]
  },
  {
   "cell_type": "code",
   "execution_count": null,
   "metadata": {},
   "outputs": [],
   "source": [
    "# Train on all clutter levels sequentially \n",
    "number_of_characters = [4]# [4, 8, 16, 32, 64, 128, 256]\n",
    "\n",
    "for chars in range(len(number_of_characters)):\n",
    "    print('')\n",
    "    datadir = DATASET_DIR + '%.d_characters/'%(number_of_characters[chars])\n",
    "    logdir = LOG_DIR + '%.d_characters/'%(number_of_characters[chars])\n",
    "\n",
    "    model.training(datadir, \n",
    "             logdir, \n",
    "             epochs=20,\n",
    "             model='siamese-u-net',\n",
    "             feature_maps=24,\n",
    "             batch_size=250,\n",
    "             learning_rate=0.0005, \n",
    "             initial_training=True, \n",
    "             maximum_number_of_steps=0)"
   ]
  },
  {
   "cell_type": "code",
   "execution_count": null,
   "metadata": {},
   "outputs": [],
   "source": [
    "# Evaluate all clutter levels sequentially \n",
    "number_of_characters = [4]# [4, 8, 16, 32, 64, 128, 256]\n",
    "\n",
    "for chars in range(len(number_of_characters)):\n",
    "    print('')\n",
    "    datadir = DATASET_DIR + '%.d_characters/'%(number_of_characters[chars])\n",
    "    logdir = LOG_DIR + '%.d_characters/'%(number_of_characters[chars])\n",
    "\n",
    "    model.evaluation(datadir, \n",
    "             logdir, \n",
    "             model='siamese-u-net',\n",
    "             feature_maps=24,\n",
    "             batch_size=250,\n",
    "             threshold=0.3)"
   ]
  }
 ],
 "metadata": {
  "kernelspec": {
   "display_name": "Python 3",
   "language": "python",
   "name": "python3"
  },
  "varInspector": {
   "cols": {
    "lenName": 16,
    "lenType": 16,
    "lenVar": 40
   },
   "kernels_config": {
    "python": {
     "delete_cmd_postfix": "",
     "delete_cmd_prefix": "del ",
     "library": "var_list.py",
     "varRefreshCmd": "print(var_dic_list())"
    },
    "r": {
     "delete_cmd_postfix": ") ",
     "delete_cmd_prefix": "rm(",
     "library": "var_list.r",
     "varRefreshCmd": "cat(var_dic_list()) "
    }
   },
   "types_to_exclude": [
    "module",
    "function",
    "builtin_function_or_method",
    "instance",
    "_Feature"
   ],
   "window_display": false
  }
 },
 "nbformat": 4,
 "nbformat_minor": 2
}
