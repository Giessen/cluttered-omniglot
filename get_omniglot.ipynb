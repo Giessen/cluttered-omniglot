{
 "cells": [
  {
   "cell_type": "code",
   "execution_count": null,
   "metadata": {},
   "outputs": [],
   "source": [
    "import os\n",
    "import pickle\n",
    "\n",
    "from PIL import Image\n",
    "from PIL import ImageOps\n",
    "\n",
    "from urllib.request import urlretrieve\n",
    "import zipfile"
   ]
  },
  {
   "cell_type": "code",
   "execution_count": null,
   "metadata": {},
   "outputs": [],
   "source": [
    "# Set target path\n",
    "tpath = os.path.join(os.getcwd(), 'omniglot/')"
   ]
  },
  {
   "cell_type": "code",
   "execution_count": null,
   "metadata": {},
   "outputs": [],
   "source": [
    "# Download and extract omniglot\n",
    "origin_folder = \"https://github.com/brendenlake/omniglot/raw/master/python/\"\n",
    "\n",
    "fnames = [\"images_evaluation.zip\", \"images_background.zip\"]\n",
    "\n",
    "for fname in fnames:\n",
    "    origin = os.path.join(origin_folder, fname)\n",
    "    if not os.path.isdir('omniglot/'):\n",
    "        os.makedirs('omniglot/')\n",
    "    fpath = os.path.join(tpath, fname)\n",
    "    urlretrieve(origin, fpath)\n",
    "    zipfile.ZipFile(fpath).extractall(tpath)"
   ]
  },
  {
   "cell_type": "code",
   "execution_count": null,
   "metadata": {},
   "outputs": [],
   "source": [
    "# Open all images and collect them in a nested list\n",
    "def load_glots(path):\n",
    "    glots = []\n",
    "    glot_locs = []\n",
    "\n",
    "    alphabet = [os.path.join(path, x) for x in sorted(os.listdir(path))]\n",
    "    for alph in alphabet:\n",
    "        character = [os.path.join(alph, x) for x in sorted(os.listdir(alph))]\n",
    "        alph_chars = []\n",
    "        alph_char_locs = []\n",
    "\n",
    "        for char in character:\n",
    "            glot_insts = [os.path.join(char, x) for x in sorted(os.listdir(char))]\n",
    "            glot_instances = []\n",
    "\n",
    "            for glot_inst in glot_insts:\n",
    "                tmp_im = Image.open(glot_inst)\n",
    "                tmp_im = tmp_im.convert('L')\n",
    "                tmp_im = ImageOps.invert(tmp_im)\n",
    "                tmp_im = tmp_im.convert('1')\n",
    "\n",
    "                glot_instances.append(tmp_im)\n",
    "\n",
    "            alph_chars.append(glot_instances)\n",
    "            alph_char_locs.append(glot_insts)\n",
    "\n",
    "        glots.append(alph_chars)\n",
    "        glot_locs.append(alph_char_locs)\n",
    "        \n",
    "    return glots, glot_locs"
   ]
  },
  {
   "cell_type": "code",
   "execution_count": null,
   "metadata": {},
   "outputs": [],
   "source": [
    "# Run image opening and collection function\n",
    "glots_train, glot_locs_train = load_glots(path = os.path.join(tpath, 'images_background/'))\n",
    "glots_eval, glot_locs_eval = load_glots(path = os.path.join(tpath, 'images_evaluation/'))"
   ]
  },
  {
   "cell_type": "code",
   "execution_count": null,
   "metadata": {},
   "outputs": [],
   "source": [
    "#Write dataset to pickle file\n",
    "if not os.path.exists(tpath):\n",
    "    os.makedirs(tpath)\n",
    "#Write train split containing all alphabets from images_background\n",
    "with open(tpath + 'glots_train.pickle', 'wb') as fp:   \n",
    "    pickle.dump(glots_train, fp)\n",
    "with open(tpath + 'glot_locs_train.pickle', 'wb') as fp:   \n",
    "    pickle.dump(glot_locs_train, fp)\n",
    "#Write evaluation split containing the first 10 alphabets from images_evaluation\n",
    "with open(tpath + 'glots_eval.pickle', 'wb') as fp:   \n",
    "    pickle.dump(glots_eval[:10], fp)\n",
    "with open(tpath + 'glot_locs_eval.pickle', 'wb') as fp:   \n",
    "    pickle.dump(glot_locs_eval[:10], fp)\n",
    "#Write test split containing the remaining 10 alphabets from images_evaluation \n",
    "with open(tpath + 'glots_test.pickle', 'wb') as fp:   \n",
    "    pickle.dump(glots_eval[10:], fp)\n",
    "with open(tpath + 'glot_locs_test.pickle', 'wb') as fp:   \n",
    "    pickle.dump(glot_locs_eval[10:], fp)"
   ]
  }
 ],
 "metadata": {
  "kernelspec": {
   "display_name": "Python 3",
   "language": "python",
   "name": "python3"
  },
  "language_info": {
   "codemirror_mode": {
    "name": "ipython",
    "version": 3
   },
   "file_extension": ".py",
   "mimetype": "text/x-python",
   "name": "python",
   "nbconvert_exporter": "python",
   "pygments_lexer": "ipython3",
   "version": "3.6.3"
  },
  "varInspector": {
   "cols": {
    "lenName": 16,
    "lenType": 16,
    "lenVar": 40
   },
   "kernels_config": {
    "python": {
     "delete_cmd_postfix": "",
     "delete_cmd_prefix": "del ",
     "library": "var_list.py",
     "varRefreshCmd": "print(var_dic_list())"
    },
    "r": {
     "delete_cmd_postfix": ") ",
     "delete_cmd_prefix": "rm(",
     "library": "var_list.r",
     "varRefreshCmd": "cat(var_dic_list()) "
    }
   },
   "types_to_exclude": [
    "module",
    "function",
    "builtin_function_or_method",
    "instance",
    "_Feature"
   ],
   "window_display": false
  }
 },
 "nbformat": 4,
 "nbformat_minor": 2
}
